{
 "cells": [
  {
   "cell_type": "code",
   "execution_count": 1,
   "metadata": {},
   "outputs": [],
   "source": [
    "import nltk\n",
    "from nltk.tokenize import word_tokenize #import word_tokenize for tokenizing text into words \n",
    "from nltk.tokenize import sent_tokenize #import sent_tokenize for tokenizing paragraph into sentences\n",
    "from nltk.stem.porter import PorterStemmer #import Porter Stemmer Algorithm \n",
    "from nltk.stem import WordNetLemmatizer #import WordNet lemmatizer \n",
    "from nltk.corpus import stopwords #import stopwords\n",
    "from Sastrawi.Stemmer.StemmerFactory import StemmerFactory #import Indonesian Stemmer\n",
    "import re\n",
    "from nltk.tokenize import RegexpTokenizer\n",
    "import sys\n",
    "from Sastrawi.StopWordRemover.StopWordRemoverFactory import StopWordRemoverFactory"
   ]
  },
  {
   "cell_type": "code",
   "execution_count": 2,
   "metadata": {},
   "outputs": [],
   "source": [
    "# input file\n",
    "def input_text(file):\n",
    "    f = open(file,'r')\n",
    "    isifile = f.readlines()\n",
    "    isifile = ''.join(isifile)\n",
    "    return isifile\n",
    "\n",
    "# sentence tokenization\n",
    "def sentence_tokenization(s):\n",
    "    sentences_list = sent_tokenize(s)\n",
    "    sentences_list = \" \".join(sentences_list)\n",
    "    return sentences_list\n",
    "\n",
    "# stopword remover\n",
    "def stopword_re(s):\n",
    "    factory = StopWordRemoverFactory()\n",
    "    other_stopword = ['sendiri', 'ini', 'amat'] # sudah ditambahan tapi tidak terhapus \n",
    "    data = factory.get_stop_words()+other_stopword\n",
    "    stopword = factory.create_stop_word_remover()\n",
    "    text_stopword = stopword.remove(s)\n",
    "    return text_stopword\n",
    "\n",
    "#casefolding\n",
    "def casefolding(s):\n",
    "    new_str = s.lower()\n",
    "    return new_str\n",
    "\n",
    "#remove from string\n",
    "def remove(str):\n",
    "    new_string =  re.sub(r\"[\\n\\.]\", \" \", str)\n",
    "    return new_string\n",
    "\n",
    "# Stemming\n",
    "def stemmingIndo(str):\n",
    "    factory = StemmerFactory()\n",
    "    stemmer = factory.create_stemmer()\n",
    "    return stemmer.stem(str)\n",
    "\n",
    "# word tokenization\n",
    "def word_tokenization(s):\n",
    "    token2 = word_tokenize(s)\n",
    "    return token2\n",
    "\n",
    "#pos tagging\n",
    "def postag(str):\n",
    "    tagged_sentence = nltk.pos_tag(str)\n",
    "    return tagged_sentence"
   ]
  },
  {
   "cell_type": "code",
   "execution_count": 3,
   "metadata": {},
   "outputs": [
    {
     "name": "stdout",
     "output_type": "stream",
     "text": [
      "[('bakar', 'NN'), ('hutan', 'NN'), ('jadi', 'NN'), ('indonesia', 'NN'), ('indonesia', 'NN'), ('salah', 'NN'), ('satu', 'NN'), ('negara', 'JJ'), ('dalam', 'NN'), ('milik', 'NN'), ('iklim', 'NN'), ('tropis', 'NN'), ('negara', 'NN'), ('diri', 'NN'), ('banyak', 'NN'), ('pulau', 'NN'), ('tiap', 'NN'), ('wilayah', 'NN'), ('meski', 'NN'), ('aku', 'NN'), ('indonesia', 'NN'), ('sendiri', 'NN'), ('datar', 'NN'), ('luas', 'NN'), ('laut', 'NN'), ('bentang', 'NN'), ('luas', 'NN'), ('namun', 'JJ'), ('demikian', 'JJ'), ('indonesia', 'NN'), ('milik', 'NN'), ('kawasan', 'JJ'), ('hutan', 'NN'), ('cukup', 'NN'), ('banyak', 'NN'), ('mulai', 'NN'), ('sabang', 'NN'), ('letak', 'NN'), ('provinsi', 'NN'), ('aceh', 'NN'), ('merauke', 'NN'), ('letak', 'NN'), ('kawasan', 'NNP'), ('papua', 'NN'), ('namun', 'NN'), ('beberapa', 'NN'), ('tahun', 'NN'), ('akhir', 'NN'), ('indonesia', 'NN'), ('sering', 'VBG'), ('alami', 'JJ'), ('bakar', 'NN'), ('hutan', 'NN'), ('lantar', 'NN'), ('beberapa', 'NN'), ('faktor', 'NN'), ('ada', 'NN'), ('mulai', 'NN'), ('faktor', 'NN'), ('buat', 'NN'), ('manusia', 'NN'), ('sendiri', 'NN'), ('hingga', 'NN'), ('faktor', 'NN'), ('alam', 'NN'), ('faktor', 'NN'), ('alam', 'NN'), ('sebab', 'NN'), ('bakar', 'NN'), ('hutan', 'NN'), ('memang', 'NN'), ('hindar', 'NN'), ('ada', 'NN'), ('salah', 'NN'), ('ini', 'NN'), ('akan', 'NN'), ('tetapi', 'NN'), ('faktor', 'NN'), ('tindak', 'NN'), ('manusia', 'NN'), ('perlu', 'NN'), ('tindak', 'NN'), ('evaluasi', 'NN'), ('memang', 'NN'), ('buah', 'NN'), ('resah', 'NN'), ('sendiri', 'NN'), ('manusia', 'NN'), ('banyak', 'NN'), ('kini', 'NNP'), ('hilang', 'NN'), ('sadar', 'NN'), ('sampai', 'NN'), ('laku', 'NN'), ('suatu', 'NN'), ('buat', 'NN'), ('bisa', 'NN'), ('rugi', 'NN'), ('banyak', 'NN'), ('orang', 'NN'), ('masuk', 'NN'), ('diri', 'NN'), ('sendiri', 'NN'), ('khusus', 'NN'), ('rugi', 'NN'), ('lingkung', 'NN'), ('hidup', 'NN'), ('sedang', 'NN'), ('hutan', 'NN'), ('sendiri', 'NN'), ('jenis', 'NN'), ('habitat', 'NN'), ('dalam', 'NN'), ('banyak', 'NN'), ('spesies', 'NNS'), ('gantung', 'VBP'), ('oleh', 'JJ'), ('itu', 'NN'), ('aksi', 'NN'), ('manusia', 'NN'), ('sebab', 'NN'), ('bakar', 'NN'), ('hutan', 'NN'), ('adil', 'NN'), ('lebih', 'NN'), ('tuju', 'NN'), ('penting', 'VBG'), ('diri', 'JJ'), ('sendiri', 'NN'), ('ada', 'NN'), ('banyak', 'NN'), ('alas', 'NNS'), ('milik', 'VBP'), ('oknum', 'JJ'), ('laku', 'NN'), ('aksi', 'NN'), ('bakar', 'NN'), ('hutan', 'NN'), ('di', 'NN'), ('antara', 'NN'), ('buka', 'NN'), ('lahan', 'NN'), ('baru', 'NN'), ('bangun', 'NN'), ('gedung', 'NN'), ('baru', 'NN'), ('lain', 'NN'), ('akan', 'JJ'), ('tetapi', 'NN'), ('sama', 'NN'), ('sekali', 'NN'), ('pikir', 'NN'), ('bagaimana', 'NN'), ('nasib', 'JJ'), ('flora', 'NNS'), ('fauna', 'VBP'), ('ada', 'JJ'), ('di', 'NN'), ('dalam', 'NN'), ('hutan', 'NN'), ('sebut', 'NN'), ('flora', 'VBP'), ('fauna', 'NN'), ('dapat', 'NN'), ('di', 'NN'), ('dalam', 'NN'), ('hutan', 'NN'), ('lari', 'NN'), ('diri', 'NN'), ('namun', 'IN'), ('ada', 'JJ'), ('juga', 'NN'), ('hangus', 'NN'), ('bakar', 'NN'), ('api', 'NN'), ('lantar', 'NN'), ('ulah', 'JJ'), ('dari', 'NN'), ('manusia', 'NN'), ('itu', 'NN'), ('sendiri', 'NN'), ('mereka', 'NN'), ('akan', 'NN'), ('hilang', 'NN'), ('tempat', 'JJ'), ('tinggal', 'JJ'), ('asli', 'NN'), ('bahkan', 'NN'), ('akan', 'JJ'), ('jadi', 'NN'), ('resah', 'NN'), ('sendiri', 'NN'), ('mereka', 'NN'), ('masuk', 'NN'), ('wilayah', 'NN'), ('mukim', 'NN'), ('duduk', 'NN'), ('asa', 'NN'), ('tidak', 'NN'), ('milik', 'NN'), ('rumah', 'NN'), ('untuk', 'JJ'), ('tinggal', 'JJ'), ('maka', 'NN'), ('tidak', 'NN'), ('heran', 'NN'), ('akhir', 'IN'), ('ada', 'JJ'), ('banyak', 'NN'), ('kasus', 'NN'), ('temu', 'NN'), ('hewan', 'NN'), ('liar', 'NN'), ('singa', 'JJ'), ('macan', 'JJ'), ('masuk', 'NN'), ('mukim', 'NN'), ('warga', 'NN'), ('beda', 'NN'), ('faktor', 'NN'), ('alam', 'NN'), ('misal', 'NN'), ('kemarau', 'NNP'), ('panjang', 'NN'), ('ada', 'NN'), ('sambar', 'NN'), ('petir', 'NN'), ('kala', 'NN'), ('hujan', 'NN'), ('datang', 'NN'), ('musim', 'NN'), ('tidak', 'NN'), ('bisa', 'NN'), ('kira', 'NN'), ('manusia', 'NN'), ('saat', 'NN'), ('kemarau', 'NN'), ('datang', 'NN'), ('dengan', 'JJ'), ('masa', 'JJ'), ('amat', 'NN'), ('panjang', 'NN'), ('hal', 'NN'), ('sangat', 'NN'), ('wajar', 'NN'), ('akan', 'JJ'), ('tetapi', 'NN'), ('hal', 'NN'), ('sebut', 'NN'), ('sangat', 'VBD'), ('pengaruh', 'JJ'), ('kondisi', 'NN'), ('hutan', 'NN'), ('yang', 'NN'), ('tiap', 'NN'), ('hari', 'NN'), ('kena', 'NN'), ('sengat', 'NN'), ('matahari', 'NN'), ('sebab', 'NN'), ('muncul', 'NN'), ('percik', 'NN'), ('api', 'NN'), ('juga', 'NN'), ('ada', 'NN'), ('petir', 'NN'), ('yang', 'NN'), ('sambar', 'NN'), ('muncul', 'NN'), ('percik', 'NN'), ('api', 'NN')]\n"
     ]
    }
   ],
   "source": [
    "def main():\n",
    "    teks = input_text('artikelindo.txt')\n",
    "    indo_token = sentence_tokenization(teks)\n",
    "    indo_stopword = stopword_re(indo_token)\n",
    "    indo_case = casefolding(indo_stopword)\n",
    "    indo_remove = remove(indo_case)\n",
    "    indo_stemming = stemmingIndo(indo_case)\n",
    "    indo_token2 = word_tokenization(indo_stemming)\n",
    "    indo_tag = postag(indo_token2)\n",
    "    print(indo_tag)\n",
    "\n",
    "if __name__== \"__main__\":\n",
    "    main()\n",
    "    "
   ]
  },
  {
   "cell_type": "code",
   "execution_count": null,
   "metadata": {},
   "outputs": [],
   "source": []
  }
 ],
 "metadata": {
  "kernelspec": {
   "display_name": "Python 3",
   "language": "python",
   "name": "python3"
  },
  "language_info": {
   "codemirror_mode": {
    "name": "ipython",
    "version": 3
   },
   "file_extension": ".py",
   "mimetype": "text/x-python",
   "name": "python",
   "nbconvert_exporter": "python",
   "pygments_lexer": "ipython3",
   "version": "3.6.5"
  }
 },
 "nbformat": 4,
 "nbformat_minor": 2
}
